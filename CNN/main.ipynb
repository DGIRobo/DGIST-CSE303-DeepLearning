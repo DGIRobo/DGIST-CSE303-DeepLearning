{
 "cells": [
  {
   "cell_type": "code",
   "execution_count": 1,
   "id": "d3a2fe7d",
   "metadata": {},
   "outputs": [],
   "source": [
    "import CNN\n",
    "import dataloader\n",
    "import numpy as np\n",
    "import random\n",
    "import matplotlib.pyplot as plt\n",
    "import seaborn as sns\n",
    "from sklearn.metrics import confusion_matrix"
   ]
  },
  {
   "cell_type": "code",
   "execution_count": 2,
   "id": "da045eb2",
   "metadata": {},
   "outputs": [],
   "source": [
    "# Train Data Load\n",
    "train_loader = dataloader.Dataloader(r'C:\\Users\\fist5\\Desktop\\DGIST Undergradurate course\\17. 2023년 가을학기(4학년 1학기)\\딥러닝개론\\강의 노트\\5주차\\PA1 - NN & CNN design\\3NN', is_train = True, shuffle = True)\n",
    "x = train_loader.images / 255\n",
    "x = np.reshape(x, (len(x), 28*28))\n",
    "y = train_loader.labels\n",
    "XYset = []\n",
    "for i in range(len(x)):\n",
    "    XYset.append([np.reshape(x[i], (28,28)), np.reshape(y[i], (10, 1))])"
   ]
  },
  {
   "cell_type": "code",
   "execution_count": 3,
   "id": "dd30c8ff",
   "metadata": {},
   "outputs": [],
   "source": [
    "# Test Data Load\n",
    "test_loader = dataloader.Dataloader(r'C:\\Users\\fist5\\Desktop\\DGIST Undergradurate course\\17. 2023년 가을학기(4학년 1학기)\\딥러닝개론\\강의 노트\\5주차\\PA1 - NN & CNN design\\3NN', is_train = False, shuffle = False)\n",
    "x_t = test_loader.images / 255\n",
    "x_t = np.reshape(x_t, (len(x_t), 28*28))\n",
    "y_t = test_loader.labels\n",
    "XY_tset = []\n",
    "for i in range(len(x_t)):\n",
    "    XY_tset.append([np.reshape(x_t[i], (28, 28)), np.reshape(y_t[i], (10, 1))])"
   ]
  },
  {
   "cell_type": "code",
   "execution_count": 4,
   "id": "7f510688",
   "metadata": {},
   "outputs": [],
   "source": [
    "# Model Generation\n",
    "FLKernels = 2\n",
    "FLKernelSize = 5\n",
    "SLKernels = 2\n",
    "SLKernelSize = 3\n",
    "learningRate = 1e-3\n",
    "CNN = CNN.CNN(28, 28, 1, 10, FLKernelSize, FLKernels, SLKernelSize, SLKernels, learningRate)"
   ]
  },
  {
   "cell_type": "code",
   "execution_count": 5,
   "id": "e900d3f6",
   "metadata": {},
   "outputs": [],
   "source": [
    "# Traning Parameter Setting\n",
    "batchSize = 100\n",
    "maxEpoch = 6\n",
    "maxIteration = int(len(x)/batchSize*maxEpoch)"
   ]
  },
  {
   "cell_type": "code",
   "execution_count": 6,
   "id": "987c8057",
   "metadata": {},
   "outputs": [],
   "source": [
    "# For Plot\n",
    "Iteration_data = []\n",
    "TrainingLoss_data = []\n",
    "TestLoss_data = []"
   ]
  },
  {
   "cell_type": "code",
   "execution_count": 7,
   "id": "ff1403bd",
   "metadata": {},
   "outputs": [
    {
     "name": "stdout",
     "output_type": "stream",
     "text": [
      "Iterations  0 / 3600  Average Loss:  2.307583260526364\n"
     ]
    },
    {
     "ename": "KeyboardInterrupt",
     "evalue": "",
     "output_type": "error",
     "traceback": [
      "\u001b[1;31m---------------------------------------------------------------------------\u001b[0m",
      "\u001b[1;31mKeyboardInterrupt\u001b[0m                         Traceback (most recent call last)",
      "\u001b[1;32m~\\AppData\\Local\\Temp\\ipykernel_29144\\3033642332.py\u001b[0m in \u001b[0;36m<module>\u001b[1;34m\u001b[0m\n\u001b[0;32m     23\u001b[0m         \u001b[0mtestInput\u001b[0m \u001b[1;33m=\u001b[0m \u001b[1;33m[\u001b[0m\u001b[0msampling_batch\u001b[0m\u001b[1;33m[\u001b[0m\u001b[0mstep\u001b[0m\u001b[1;33m]\u001b[0m\u001b[1;33m[\u001b[0m\u001b[1;36m0\u001b[0m\u001b[1;33m]\u001b[0m\u001b[1;33m]\u001b[0m\u001b[1;33m\u001b[0m\u001b[1;33m\u001b[0m\u001b[0m\n\u001b[0;32m     24\u001b[0m         \u001b[0mtestLabel\u001b[0m \u001b[1;33m=\u001b[0m \u001b[0msampling_batch\u001b[0m\u001b[1;33m[\u001b[0m\u001b[0mstep\u001b[0m\u001b[1;33m]\u001b[0m\u001b[1;33m[\u001b[0m\u001b[1;36m1\u001b[0m\u001b[1;33m]\u001b[0m\u001b[1;33m\u001b[0m\u001b[1;33m\u001b[0m\u001b[0m\n\u001b[1;32m---> 25\u001b[1;33m         \u001b[0mbeforeSoftMax\u001b[0m \u001b[1;33m=\u001b[0m \u001b[0mCNN\u001b[0m\u001b[1;33m.\u001b[0m\u001b[0mforward\u001b[0m\u001b[1;33m(\u001b[0m\u001b[0mtestInput\u001b[0m\u001b[1;33m)\u001b[0m\u001b[1;33m\u001b[0m\u001b[1;33m\u001b[0m\u001b[0m\n\u001b[0m\u001b[0;32m     26\u001b[0m         \u001b[0mafterSoftMax\u001b[0m \u001b[1;33m=\u001b[0m \u001b[0mCNN\u001b[0m\u001b[1;33m.\u001b[0m\u001b[0mSoftMax\u001b[0m\u001b[1;33m(\u001b[0m\u001b[0mbeforeSoftMax\u001b[0m\u001b[1;33m)\u001b[0m\u001b[1;33m\u001b[0m\u001b[1;33m\u001b[0m\u001b[0m\n\u001b[0;32m     27\u001b[0m         \u001b[0mLoss\u001b[0m \u001b[1;33m=\u001b[0m \u001b[0mCNN\u001b[0m\u001b[1;33m.\u001b[0m\u001b[0mCrossEntropyLoss\u001b[0m\u001b[1;33m(\u001b[0m\u001b[0mtestLabel\u001b[0m\u001b[1;33m,\u001b[0m \u001b[0mafterSoftMax\u001b[0m\u001b[1;33m)\u001b[0m\u001b[1;33m\u001b[0m\u001b[1;33m\u001b[0m\u001b[0m\n",
      "\u001b[1;32m~\\Desktop\\CNN\\CNN.py\u001b[0m in \u001b[0;36mforward\u001b[1;34m(self, inChannels)\u001b[0m\n\u001b[0;32m     24\u001b[0m     \u001b[1;32mdef\u001b[0m \u001b[0mforward\u001b[0m\u001b[1;33m(\u001b[0m\u001b[0mself\u001b[0m\u001b[1;33m,\u001b[0m \u001b[0minChannels\u001b[0m\u001b[1;33m)\u001b[0m\u001b[1;33m:\u001b[0m\u001b[1;33m\u001b[0m\u001b[1;33m\u001b[0m\u001b[0m\n\u001b[0;32m     25\u001b[0m         \u001b[0mself\u001b[0m\u001b[1;33m.\u001b[0m\u001b[0mforwardHistory\u001b[0m\u001b[1;33m[\u001b[0m\u001b[1;36m0\u001b[0m\u001b[1;33m]\u001b[0m \u001b[1;33m=\u001b[0m \u001b[0minChannels\u001b[0m\u001b[1;33m\u001b[0m\u001b[1;33m\u001b[0m\u001b[0m\n\u001b[1;32m---> 26\u001b[1;33m         \u001b[0mself\u001b[0m\u001b[1;33m.\u001b[0m\u001b[0mforwardHistory\u001b[0m\u001b[1;33m[\u001b[0m\u001b[1;36m1\u001b[0m\u001b[1;33m]\u001b[0m \u001b[1;33m=\u001b[0m \u001b[0mself\u001b[0m\u001b[1;33m.\u001b[0m\u001b[0mconv1\u001b[0m\u001b[1;33m.\u001b[0m\u001b[0mforward\u001b[0m\u001b[1;33m(\u001b[0m\u001b[0mself\u001b[0m\u001b[1;33m.\u001b[0m\u001b[0mforwardHistory\u001b[0m\u001b[1;33m[\u001b[0m\u001b[1;36m0\u001b[0m\u001b[1;33m]\u001b[0m\u001b[1;33m)\u001b[0m\u001b[1;33m\u001b[0m\u001b[1;33m\u001b[0m\u001b[0m\n\u001b[0m\u001b[0;32m     27\u001b[0m         \u001b[0mself\u001b[0m\u001b[1;33m.\u001b[0m\u001b[0mforwardHistory\u001b[0m\u001b[1;33m[\u001b[0m\u001b[1;36m2\u001b[0m\u001b[1;33m]\u001b[0m \u001b[1;33m=\u001b[0m \u001b[0mself\u001b[0m\u001b[1;33m.\u001b[0m\u001b[0mReLULayer\u001b[0m\u001b[1;33m.\u001b[0m\u001b[0mforward\u001b[0m\u001b[1;33m(\u001b[0m\u001b[0mself\u001b[0m\u001b[1;33m.\u001b[0m\u001b[0mforwardHistory\u001b[0m\u001b[1;33m[\u001b[0m\u001b[1;36m1\u001b[0m\u001b[1;33m]\u001b[0m\u001b[1;33m)\u001b[0m\u001b[1;33m\u001b[0m\u001b[1;33m\u001b[0m\u001b[0m\n\u001b[0;32m     28\u001b[0m         \u001b[0mself\u001b[0m\u001b[1;33m.\u001b[0m\u001b[0mforwardHistory\u001b[0m\u001b[1;33m[\u001b[0m\u001b[1;36m3\u001b[0m\u001b[1;33m]\u001b[0m \u001b[1;33m=\u001b[0m \u001b[0mself\u001b[0m\u001b[1;33m.\u001b[0m\u001b[0mmaxpool1\u001b[0m\u001b[1;33m.\u001b[0m\u001b[0mforward\u001b[0m\u001b[1;33m(\u001b[0m\u001b[0mself\u001b[0m\u001b[1;33m.\u001b[0m\u001b[0mforwardHistory\u001b[0m\u001b[1;33m[\u001b[0m\u001b[1;36m2\u001b[0m\u001b[1;33m]\u001b[0m\u001b[1;33m)\u001b[0m\u001b[1;33m\u001b[0m\u001b[1;33m\u001b[0m\u001b[0m\n",
      "\u001b[1;32m~\\Desktop\\CNN\\convolutionalLayer.py\u001b[0m in \u001b[0;36mforward\u001b[1;34m(self, inChannels)\u001b[0m\n\u001b[0;32m     37\u001b[0m         \u001b[0moutChannels\u001b[0m \u001b[1;33m=\u001b[0m \u001b[1;33m[\u001b[0m\u001b[1;33m]\u001b[0m\u001b[1;33m\u001b[0m\u001b[1;33m\u001b[0m\u001b[0m\n\u001b[0;32m     38\u001b[0m         \u001b[1;32mfor\u001b[0m \u001b[0mfilterId\u001b[0m \u001b[1;32min\u001b[0m \u001b[0mrange\u001b[0m\u001b[1;33m(\u001b[0m\u001b[0mlen\u001b[0m\u001b[1;33m(\u001b[0m\u001b[0mself\u001b[0m\u001b[1;33m.\u001b[0m\u001b[0mfilters\u001b[0m\u001b[1;33m)\u001b[0m\u001b[1;33m)\u001b[0m\u001b[1;33m:\u001b[0m\u001b[1;33m\u001b[0m\u001b[1;33m\u001b[0m\u001b[0m\n\u001b[1;32m---> 39\u001b[1;33m             \u001b[0moutChannel\u001b[0m \u001b[1;33m=\u001b[0m \u001b[0mself\u001b[0m\u001b[1;33m.\u001b[0m\u001b[0mfilters\u001b[0m\u001b[1;33m[\u001b[0m\u001b[0mfilterId\u001b[0m\u001b[1;33m]\u001b[0m\u001b[1;33m.\u001b[0m\u001b[0mconvolution3d\u001b[0m\u001b[1;33m(\u001b[0m\u001b[0minChannels\u001b[0m\u001b[1;33m)\u001b[0m\u001b[1;33m\u001b[0m\u001b[1;33m\u001b[0m\u001b[0m\n\u001b[0m\u001b[0;32m     40\u001b[0m             \u001b[0moutChannel\u001b[0m \u001b[1;33m=\u001b[0m \u001b[0moutChannel\u001b[0m \u001b[1;33m+\u001b[0m \u001b[0mself\u001b[0m\u001b[1;33m.\u001b[0m\u001b[0mbiases\u001b[0m\u001b[1;33m[\u001b[0m\u001b[0mfilterId\u001b[0m\u001b[1;33m]\u001b[0m\u001b[1;33m\u001b[0m\u001b[1;33m\u001b[0m\u001b[0m\n\u001b[0;32m     41\u001b[0m             \u001b[0moutChannels\u001b[0m\u001b[1;33m.\u001b[0m\u001b[0mappend\u001b[0m\u001b[1;33m(\u001b[0m\u001b[0moutChannel\u001b[0m\u001b[1;33m)\u001b[0m\u001b[1;33m\u001b[0m\u001b[1;33m\u001b[0m\u001b[0m\n",
      "\u001b[1;32m~\\Desktop\\CNN\\convolutionalFilter.py\u001b[0m in \u001b[0;36mconvolution3d\u001b[1;34m(self, inChannels)\u001b[0m\n\u001b[0;32m     30\u001b[0m             \u001b[0moutChannel\u001b[0m \u001b[1;33m=\u001b[0m \u001b[0mnp\u001b[0m\u001b[1;33m.\u001b[0m\u001b[0mzeros\u001b[0m\u001b[1;33m(\u001b[0m\u001b[1;33m(\u001b[0m\u001b[0mself\u001b[0m\u001b[1;33m.\u001b[0m\u001b[0moutput_height\u001b[0m\u001b[1;33m,\u001b[0m \u001b[0mself\u001b[0m\u001b[1;33m.\u001b[0m\u001b[0moutput_width\u001b[0m\u001b[1;33m)\u001b[0m\u001b[1;33m)\u001b[0m\u001b[1;33m\u001b[0m\u001b[1;33m\u001b[0m\u001b[0m\n\u001b[0;32m     31\u001b[0m             \u001b[1;32mfor\u001b[0m \u001b[0minChannel\u001b[0m \u001b[1;32min\u001b[0m \u001b[0minChannels\u001b[0m\u001b[1;33m:\u001b[0m\u001b[1;33m\u001b[0m\u001b[1;33m\u001b[0m\u001b[0m\n\u001b[1;32m---> 32\u001b[1;33m                 \u001b[0moutChannel\u001b[0m \u001b[1;33m=\u001b[0m \u001b[0moutChannel\u001b[0m \u001b[1;33m+\u001b[0m \u001b[0mself\u001b[0m\u001b[1;33m.\u001b[0m\u001b[0mkernels\u001b[0m\u001b[1;33m[\u001b[0m\u001b[0mkernelId\u001b[0m\u001b[1;33m]\u001b[0m\u001b[1;33m.\u001b[0m\u001b[0mconvolution2d\u001b[0m\u001b[1;33m(\u001b[0m\u001b[0minChannel\u001b[0m\u001b[1;33m)\u001b[0m\u001b[1;33m\u001b[0m\u001b[1;33m\u001b[0m\u001b[0m\n\u001b[0m\u001b[0;32m     33\u001b[0m         \u001b[1;32mreturn\u001b[0m \u001b[0moutChannel\u001b[0m\u001b[1;33m\u001b[0m\u001b[1;33m\u001b[0m\u001b[0m\n\u001b[0;32m     34\u001b[0m \u001b[1;33m\u001b[0m\u001b[0m\n",
      "\u001b[1;32m~\\Desktop\\CNN\\kernel.py\u001b[0m in \u001b[0;36mconvolution2d\u001b[1;34m(self, input)\u001b[0m\n\u001b[0;32m     63\u001b[0m     \u001b[1;32mdef\u001b[0m \u001b[0mconvolution2d\u001b[0m\u001b[1;33m(\u001b[0m\u001b[0mself\u001b[0m\u001b[1;33m,\u001b[0m \u001b[0minput\u001b[0m\u001b[1;33m)\u001b[0m\u001b[1;33m:\u001b[0m\u001b[1;33m\u001b[0m\u001b[1;33m\u001b[0m\u001b[0m\n\u001b[0;32m     64\u001b[0m         \u001b[0mcol\u001b[0m \u001b[1;33m=\u001b[0m \u001b[0mself\u001b[0m\u001b[1;33m.\u001b[0m\u001b[0minputImg2col\u001b[0m\u001b[1;33m(\u001b[0m\u001b[0minput\u001b[0m\u001b[1;33m)\u001b[0m\u001b[1;33m\u001b[0m\u001b[1;33m\u001b[0m\u001b[0m\n\u001b[1;32m---> 65\u001b[1;33m         \u001b[0msparsedKernel\u001b[0m \u001b[1;33m=\u001b[0m \u001b[0mself\u001b[0m\u001b[1;33m.\u001b[0m\u001b[0mkernel_sparsing\u001b[0m\u001b[1;33m(\u001b[0m\u001b[1;33m)\u001b[0m\u001b[1;33m\u001b[0m\u001b[1;33m\u001b[0m\u001b[0m\n\u001b[0m\u001b[0;32m     66\u001b[0m         \u001b[0mcol\u001b[0m \u001b[1;33m=\u001b[0m \u001b[0msparsedKernel\u001b[0m \u001b[1;33m@\u001b[0m \u001b[0mcol\u001b[0m\u001b[1;33m\u001b[0m\u001b[1;33m\u001b[0m\u001b[0m\n\u001b[0;32m     67\u001b[0m         \u001b[1;32mreturn\u001b[0m \u001b[0mself\u001b[0m\u001b[1;33m.\u001b[0m\u001b[0mcol2outputImg\u001b[0m\u001b[1;33m(\u001b[0m\u001b[0mcol\u001b[0m\u001b[1;33m)\u001b[0m\u001b[1;33m\u001b[0m\u001b[1;33m\u001b[0m\u001b[0m\n",
      "\u001b[1;32m~\\Desktop\\CNN\\kernel.py\u001b[0m in \u001b[0;36mkernel_sparsing\u001b[1;34m(self)\u001b[0m\n\u001b[0;32m     41\u001b[0m         \u001b[1;32mfor\u001b[0m \u001b[0mrow_num\u001b[0m \u001b[1;32min\u001b[0m \u001b[0mrange\u001b[0m\u001b[1;33m(\u001b[0m\u001b[0mself\u001b[0m\u001b[1;33m.\u001b[0m\u001b[0moutput_height\u001b[0m\u001b[1;33m*\u001b[0m\u001b[0mself\u001b[0m\u001b[1;33m.\u001b[0m\u001b[0moutput_width\u001b[0m\u001b[1;33m)\u001b[0m\u001b[1;33m:\u001b[0m\u001b[1;33m\u001b[0m\u001b[1;33m\u001b[0m\u001b[0m\n\u001b[0;32m     42\u001b[0m             \u001b[1;32mfor\u001b[0m \u001b[0mcol_num\u001b[0m \u001b[1;32min\u001b[0m \u001b[0mrange\u001b[0m\u001b[1;33m(\u001b[0m\u001b[0mlen\u001b[0m\u001b[1;33m(\u001b[0m\u001b[0mpivot\u001b[0m\u001b[1;33m)\u001b[0m\u001b[1;33m)\u001b[0m\u001b[1;33m:\u001b[0m\u001b[1;33m\u001b[0m\u001b[1;33m\u001b[0m\u001b[0m\n\u001b[1;32m---> 43\u001b[1;33m                 \u001b[0msparsedKernel\u001b[0m\u001b[1;33m[\u001b[0m\u001b[0mrow_num\u001b[0m\u001b[1;33m]\u001b[0m\u001b[1;33m[\u001b[0m\u001b[0mrow_num\u001b[0m\u001b[1;33m*\u001b[0m\u001b[0mself\u001b[0m\u001b[1;33m.\u001b[0m\u001b[0mstride\u001b[0m \u001b[1;33m+\u001b[0m \u001b[0mcol_num\u001b[0m\u001b[1;33m]\u001b[0m \u001b[1;33m=\u001b[0m \u001b[0mpivot\u001b[0m\u001b[1;33m[\u001b[0m\u001b[0mcol_num\u001b[0m\u001b[1;33m]\u001b[0m\u001b[1;33m\u001b[0m\u001b[1;33m\u001b[0m\u001b[0m\n\u001b[0m\u001b[0;32m     44\u001b[0m         \u001b[1;32mreturn\u001b[0m \u001b[0msparsedKernel\u001b[0m\u001b[1;33m\u001b[0m\u001b[1;33m\u001b[0m\u001b[0m\n\u001b[0;32m     45\u001b[0m \u001b[1;33m\u001b[0m\u001b[0m\n",
      "\u001b[1;31mKeyboardInterrupt\u001b[0m: "
     ]
    }
   ],
   "source": [
    "# Start Training\n",
    "for iteration in range(maxIteration):\n",
    "    accumulateLoss = 0\n",
    "    accumulateTestLoss = 0\n",
    "    sampling_batch = random.sample(XYset, batchSize)\n",
    "    for step in range(batchSize):\n",
    "        input = [sampling_batch[step][0]]\n",
    "        label = sampling_batch[step][1]\n",
    "        beforeSoftMax = CNN.forward(input)\n",
    "        afterSoftMax = CNN.SoftMax(beforeSoftMax)\n",
    "        Loss = CNN.CrossEntropyLoss(label, afterSoftMax)\n",
    "        accumulateLoss = accumulateLoss + Loss[0][0]\n",
    "        output_gradient = CNN.dotCrossEntropyLoss(label, afterSoftMax)\n",
    "        CNN.backward(output_gradient)\n",
    "    print(\"Iterations \", iteration, \"/\", maxIteration, \" Average Loss: \", accumulateLoss/batchSize)\n",
    "    Iteration_data.append(iteration)\n",
    "    TrainingLoss_data.append(accumulateLoss/batchSize)\n",
    "    CNN.update()\n",
    "    \n",
    "    # Testing Test Data Set\n",
    "    testing_batch = random.sample(XY_tset, batchSize)\n",
    "    for step in range(batchSize):\n",
    "        testInput = [sampling_batch[step][0]]\n",
    "        testLabel = sampling_batch[step][1]\n",
    "        beforeSoftMax = CNN.forward(testInput)\n",
    "        afterSoftMax = CNN.SoftMax(beforeSoftMax)\n",
    "        Loss = CNN.CrossEntropyLoss(testLabel, afterSoftMax)\n",
    "        accumulateTestLoss = accumulateTestLoss + Loss[0][0]\n",
    "    TestLoss_data.append(accumulateTestLoss/batchSize)"
   ]
  },
  {
   "cell_type": "code",
   "execution_count": null,
   "id": "0f27c0fa",
   "metadata": {},
   "outputs": [],
   "source": [
    "# Loss Graph Plotting    \n",
    "plt.plot(Iteration_data, TrainingLoss_data, 'b-', label = 'train')\n",
    "plt.plot(Iteration_data, TestLoss_data, 'r-', label = 'test')\n",
    "plt.title('Loss of CNN Training & Test')\n",
    "plt.xlabel('Iteration')\n",
    "plt.ylabel('Loss')\n",
    "plt.xlim([0, maxIteration])\n",
    "plt.ylim([0, 2.5])\n",
    "plt.legend(loc='best', ncol=2) \n",
    "#plt.show()\n",
    "plt.savefig('LossGraph.png', dpi=300, bbox_inches = 'tight', pad_inches = 0)"
   ]
  },
  {
   "cell_type": "code",
   "execution_count": null,
   "id": "ad2913b6",
   "metadata": {},
   "outputs": [],
   "source": [
    "# Test Data Prediction\n",
    "predictionDatas = []\n",
    "predictionCM = []\n",
    "actualCM = []\n",
    "top3Datas = {0:[[0,0,0], [0,0,0]], 1:[[0,0,0], [0,0,0]], 2:[[0,0,0], [0,0,0]], 3:[[0,0,0], [0,0,0]], 4:[[0,0,0], [0,0,0]], 5:[[0,0,0], [0,0,0]], 6:[[0,0,0], [0,0,0]], 7:[[0,0,0], [0,0,0]], 8:[[0,0,0], [0,0,0]], 9:[[0,0,0], [0,0,0]]}\n",
    "for step in range(len(XY_tset)):\n",
    "    input = [XY_tset[step][0]]\n",
    "    label = XY_tset[step][1]\n",
    "    beforeSoftMax = CNN.forward(input)\n",
    "    probability = CNN.SoftMax(beforeSoftMax)\n",
    "    predictionDatas.append([np.reshape(input, (28,28)), label, probability])\n",
    "    actualNumber = list(np.transpose(label)[0]).index(1)\n",
    "    predictionNumber = list(np.transpose(probability)[0]).index(max(list(np.transpose(probability)[0])))\n",
    "    #Confusion Matrix Preprocessing\n",
    "    actualCM.append(actualNumber)\n",
    "    predictionCM.append(predictionNumber)\n",
    "    #Top3 Data Preprocessing\n",
    "    minimumProb = min(top3Datas[actualNumber][0])\n",
    "    if minimumProb < max(np.transpose(probability)[0]):\n",
    "        renewIndex = top3Datas[actualNumber][0].index(minimumProb)\n",
    "        top3Datas[actualNumber][0][renewIndex] = max(np.transpose(probability)[0])\n",
    "        top3Datas[actualNumber][1][renewIndex] = np.reshape(input, (28,28))\n",
    "        tempA = np.sort(top3Datas[actualNumber][0])\n",
    "        tempAIndex = np.argsort(top3Datas[actualNumber][0])\n",
    "        tempB = [top3Datas[actualNumber][1][i] for i in tempAIndex]\n",
    "        top3Datas[actualNumber][0] = list(tempA)\n",
    "        top3Datas[actualNumber][1] = list(tempB)"
   ]
  },
  {
   "cell_type": "code",
   "execution_count": null,
   "id": "0111810f",
   "metadata": {},
   "outputs": [],
   "source": [
    "# Confusion Matrix Plot \n",
    "cm = np.round(confusion_matrix(actualCM, predictionCM, normalize='true'), 2)\n",
    "sns.heatmap(cm, annot=True, cmap='Blues')\n",
    "plt.xlabel('Predicted')\n",
    "plt.ylabel('True')\n",
    "plt.title('Confusion Matrix of CNN')\n",
    "#plt.show()\n",
    "plt.savefig('ConfusionMatrix.png', dpi=300)"
   ]
  },
  {
   "cell_type": "code",
   "execution_count": null,
   "id": "a4e0f049",
   "metadata": {},
   "outputs": [],
   "source": [
    "# Top 3 Data Plot\n",
    "plt.figure(figsize=(6,10))\n",
    "for i in range(10):\n",
    "    for j in range(3):\n",
    "        img = top3Datas[i][1][2-j]\n",
    "        plt.subplot(10, 6, 6*i+j+1)\n",
    "        plt.imshow(img)\n",
    "        plt.axis('off')\n",
    "    for j in range(3):\n",
    "        plt.subplot(10, 6, 6*i+j+4)\n",
    "        plt.rc('font', size=8)\n",
    "        plt.text(0.5,0.5,str(round(top3Datas[i][0][2-j]*100, 4))+'%', verticalalignment='center' , horizontalalignment='center' )\n",
    "        plt.axis('off')\n",
    "#plt.show()\n",
    "plt.savefig('Top3Datas.png', dpi=300)"
   ]
  }
 ],
 "metadata": {
  "kernelspec": {
   "display_name": "Python 3 (ipykernel)",
   "language": "python",
   "name": "python3"
  },
  "language_info": {
   "codemirror_mode": {
    "name": "ipython",
    "version": 3
   },
   "file_extension": ".py",
   "mimetype": "text/x-python",
   "name": "python",
   "nbconvert_exporter": "python",
   "pygments_lexer": "ipython3",
   "version": "3.9.13"
  }
 },
 "nbformat": 4,
 "nbformat_minor": 5
}
